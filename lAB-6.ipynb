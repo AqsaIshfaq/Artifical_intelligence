{
  "nbformat": 4,
  "nbformat_minor": 0,
  "metadata": {
    "colab": {
      "provenance": [],
      "collapsed_sections": [],
      "toc_visible": true,
      "authorship_tag": "ABX9TyPRfi6IwvDg1rNEAucamvew",
      "include_colab_link": true
    },
    "kernelspec": {
      "name": "python3",
      "display_name": "Python 3"
    },
    "language_info": {
      "name": "python"
    }
  },
  "cells": [
    {
      "cell_type": "markdown",
      "metadata": {
        "id": "view-in-github",
        "colab_type": "text"
      },
      "source": [
        "<a href=\"https://colab.research.google.com/github/AqsaIshfaq/Artifical_intelligence/blob/main/lAB-6.ipynb\" target=\"_parent\"><img src=\"https://colab.research.google.com/assets/colab-badge.svg\" alt=\"Open In Colab\"/></a>"
      ]
    },
    {
      "cell_type": "code",
      "execution_count": null,
      "metadata": {
        "id": "YsxGw0_UMOxr"
      },
      "outputs": [],
      "source": [
        "\n",
        "import math\n",
        "def findMin(front):\n",
        "   minV=math.inf\n",
        "   node=' '\n",
        "   for i in front :\n",
        "     if minV>front[i][1]:\n",
        "       minV=front[i][1]\n",
        "       node=i\n",
        "   return node\n",
        "def actionSequence(graph,intstate,goalstate):\n",
        "      sol=[goalstate]\n",
        "      currentparent=graph[goalstate].parent\n",
        "      while currentparent!=None:\n",
        "             sol.append(currentparent)\n",
        "             currentparent=graph[currentparent].parent\n",
        "      sol.reverse()\n",
        "      return sol\n",
        "class Node:\n",
        "     def __init__(self,state,parent,actions,totalcost):\n",
        "         self.state=state\n",
        "         self.parent=parent\n",
        "         self.actions=actions\n",
        "         self.totalcost=totalcost\n",
        "     def UCS():\n",
        "       intstate='C'\n",
        "       goalstate='B'\n",
        "       graph={'A':Node('A',None,[('B',6),('C',9),('E',9)],0),\n",
        " 'B':Node('B',None,[('A',6),('D',3),('E',4)],0),\n",
        "'C':Node('C',None,[('A',6),('F',9),('G',9)],0),\n",
        "'D':Node('D',None,[('B',3),('E',5),('F',7)],0),\n",
        "'E':Node('E',None,[('A',1),('B',4),('D',5),('F',5)],0),\n",
        "'F':Node('F',None,[('C',2),('E',9),('D',7)],0),\n",
        "'G':Node('G',None,[('C',3)],0)\n",
        " }\n",
        "     front=dict()\n",
        "     front=[intstate]=(None,0)\n",
        "     explored=[]\n",
        "     while len(front)!=0:\n",
        "        currentnode=findMin(front)\n",
        "        del front[currentNode]\n",
        "        if graph[currentNode].state==goalstate:\n",
        "      return actionSequence(graph,intstate,goalstate)\n",
        "      explored.append(currentNode)\n",
        "           for child in graph[currentNode].actions:\n",
        "               currentCot=child[1] + graph[currentNode].totalcost\n",
        "               if child[0] not in front and child[0]  not in explored:\n",
        "                  graph[child[0]].parent=currentNode\n",
        "                  graph[child[0]].totalcost=currentCost\n",
        "                  front[child[0]]=(graph[child[0]].parent,graph[child[0]].totalcost)\n",
        "               elif child[0] in front:\n",
        "                     if front[child[0]][1]<currentcost:\n",
        "                      graph[child[0]].parent=front[child[0]][0]\n",
        "                      graph[child[0]].totalcost=front[child[0]][1]\n",
        "                     else:\n",
        "                       front[child[0]]=(currentNode,currentcost)\n",
        "                       graph[child[0]].parent=front[child[0]][0]\n",
        "                       graph[child[0]].totalcost=front[child[0]][1]\n",
        "                       sol=UCS()\n",
        "                       print(sol)\n",
        "\n",
        "\n",
        "\n"
      ]
    },
    {
      "cell_type": "code",
      "source": [
        "import queue as Q\n",
        "\n",
        "def search(graph, start, end):\n",
        "    if start not in graph:\n",
        "        raise TypeError(str(start) + ' not found in graph !')\n",
        "        return\n",
        "    if end not in graph:\n",
        "        raise TypeError(str(end) + ' not found in graph !')\n",
        "        return\n",
        "    \n",
        "    queue = Q.PriorityQueue()\n",
        "    queue.put((0, [start]))\n",
        "    \n",
        "    while not queue.empty():\n",
        "        node = queue.get()\n",
        "        current = node[1][len(node[1]) - 1]\n",
        "        \n",
        "        if end in node[1]:\n",
        "            print(\"Path found: \" + str(node[1]) + \", Cost = \" + str(node[0]))\n",
        "            break\n",
        "        \n",
        "        cost = node[0]\n",
        "        for neighbor in graph[current]:\n",
        "            temp = node[1][:]\n",
        "            temp.append(neighbor)\n",
        "            queue.put((cost + graph[current][neighbor], temp))\n",
        "        \n",
        "def readGraph():\n",
        "    lines = int( input() )\n",
        "    graph = {}\n",
        "    \n",
        "    for line in range(lines):\n",
        "        line = input()\n",
        "            \n",
        "        tokens = line.split()\n",
        "        node = tokens[0]\n",
        "        graph[node] = {}\n",
        "        \n",
        "        for i in range(1, len(tokens) - 1, 2):\n",
        "            # print(node, tokens[i], tokens[i + 1])\n",
        "            # graph.addEdge(node, tokens[i], int(tokens[i + 1]))\n",
        "            graph[node][tokens[i]] = int(tokens[i + 1])\n",
        "    return graph\n",
        "\n",
        "def main():\n",
        "    graph = readGraph()\n",
        "    search(graph, 'Arad', 'Bucharest')\n",
        "    \n",
        "if __name__ == \"__main__\":\n",
        "    main()\n",
        "    "
      ],
      "metadata": {
        "colab": {
          "base_uri": "https://localhost:8080/"
        },
        "id": "gb-wFvalZ0h3",
        "outputId": "2199fd47-9f2d-4fc3-e69b-2cf4d5b04c47"
      },
      "execution_count": null,
      "outputs": [
        {
          "name": "stdout",
          "output_type": "stream",
          "text": [
            "14\n",
            "Arad Zerind 75 Timisoara 118 Sibiu 140\n",
            "Zerind Oradea 71 Arad 75\n",
            "Timisoara Arad 118 Lugoj 111\n",
            "Sibiu Arad 140 Oradea 151 Fagaras 99 RimnicuVilcea 80\n",
            "Oradea Zerind 71 Sibiu 151\n",
            "Lugoj Timisoara 111 Mehadia 70\n",
            "RimnicuVilcea Sibiu 80 Pitesti 97 Craiova 146\n",
            "Craiova Dobreta 120 RimnicuVilcea 146 Pitesti 138\n",
            "Dobreta Mehadia 75 Craiova 120\n",
            "Bucharest Fagaras 211 Pitesti 101 Giurgiu 90\n",
            "Giurgiu Bucharest 90\n",
            "Fagaras Sibiu 99 Bucharest 211\n"
          ]
        }
      ]
    }
  ]
}