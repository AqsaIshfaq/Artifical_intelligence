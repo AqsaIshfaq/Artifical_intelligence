{
  "nbformat": 4,
  "nbformat_minor": 0,
  "metadata": {
    "colab": {
      "provenance": [],
      "collapsed_sections": [],
      "authorship_tag": "ABX9TyPKn8r8fn30QIgYYEwOzCWv",
      "include_colab_link": true
    },
    "kernelspec": {
      "name": "python3",
      "display_name": "Python 3"
    },
    "language_info": {
      "name": "python"
    }
  },
  "cells": [
    {
      "cell_type": "markdown",
      "metadata": {
        "id": "view-in-github",
        "colab_type": "text"
      },
      "source": [
        "<a href=\"https://colab.research.google.com/github/AqsaIshfaq/Artifical_intelligence/blob/main/Lab2.ipynb\" target=\"_parent\"><img src=\"https://colab.research.google.com/assets/colab-badge.svg\" alt=\"Open In Colab\"/></a>"
      ]
    },
    {
      "cell_type": "code",
      "execution_count": null,
      "metadata": {
        "colab": {
          "base_uri": "https://localhost:8080/"
        },
        "id": "axStki8I8odZ",
        "outputId": "8e4ab429-0142-4936-811a-085dd8289f98"
      },
      "outputs": [
        {
          "output_type": "stream",
          "name": "stdout",
          "text": [
            "Blank List\n",
            "[]\n",
            "list of numbers \n",
            "[40, 50, 60]\n"
          ]
        }
      ],
      "source": [
        "list=[]\n",
        "print(\"Blank List\")\n",
        "print(list)\n",
        "#Creating a list of numbers\n",
        "list=[40,50,60]\n",
        "print(\"list of numbers \")\n",
        "print (list)"
      ]
    },
    {
      "cell_type": "code",
      "source": [
        "list=[\"geeks\",\"for\",\"GEEks\"]\n",
        "print(\"List items\")\n",
        "print(list[0])\n",
        "print(list[1])"
      ],
      "metadata": {
        "colab": {
          "base_uri": "https://localhost:8080/"
        },
        "id": "Faj1HjfM9gCf",
        "outputId": "1f9ba029-3144-4911-e780-1db88fcc049a"
      },
      "execution_count": null,
      "outputs": [
        {
          "output_type": "stream",
          "name": "stdout",
          "text": [
            "List items\n",
            "geeks\n",
            "for\n"
          ]
        }
      ]
    },
    {
      "cell_type": "code",
      "source": [
        "#Creating a multi_dimensional list\n",
        "list=[['geeks','for'],['geeks']]\n",
        "print(\"Multidimensional array\")\n",
        "print(list)\n"
      ],
      "metadata": {
        "colab": {
          "base_uri": "https://localhost:8080/"
        },
        "id": "YYwxIQbV-KtS",
        "outputId": "81a53d7e-10ee-4895-d070-9330ba06807f"
      },
      "execution_count": null,
      "outputs": [
        {
          "output_type": "stream",
          "name": "stdout",
          "text": [
            "Multidimensional array\n",
            "[['geeks', 'for'], ['geeks']]\n"
          ]
        }
      ]
    },
    {
      "cell_type": "code",
      "source": [
        "#Activity number# 2\n",
        "list= [1,2,3,4,5,4,5,6,6]\n",
        "print(\"Listing By using LIST\")\n",
        "print(list)\n"
      ],
      "metadata": {
        "colab": {
          "base_uri": "https://localhost:8080/"
        },
        "id": "EqzY0MXe-nx2",
        "outputId": "f82df3c1-0eaa-4b63-f797-bc4711b8eff5"
      },
      "execution_count": null,
      "outputs": [
        {
          "output_type": "stream",
          "name": "stdout",
          "text": [
            "Listing By using LIST\n",
            "[1, 2, 3, 4, 5, 4, 5, 6, 6]\n"
          ]
        }
      ]
    },
    {
      "cell_type": "code",
      "source": [
        "#Activity #1\n",
        "mylist=[]\n",
        "print(\"Enter  a list that is  taken from user 1\")\n",
        "for i in range (5):\n",
        "  val=input(\"Enter a value\")\n",
        "  n=int(val)\n",
        "  mylist.append(n)\n",
        "  #taken list 2\n",
        "mylist2=[]\n",
        "print(\"Enter a list that is taken from list 2\")\n",
        "for i in range (5):\n",
        "    val=input(\"enter a number\")\n",
        "    n=int(val)\n",
        "    mylist2.append(n)\n",
        "list3=mylist+mylist2;\n",
        "print(list3)\n"
      ],
      "metadata": {
        "colab": {
          "base_uri": "https://localhost:8080/"
        },
        "id": "GoX47wZ4_UIv",
        "outputId": "8279e00e-e3a1-462a-c47b-e37c29192878"
      },
      "execution_count": null,
      "outputs": [
        {
          "output_type": "stream",
          "name": "stdout",
          "text": [
            "Enter  a list that is  taken from user 1\n",
            "Enter a value1\n",
            "Enter a value2\n",
            "Enter a value3\n",
            "Enter a value4\n",
            "Enter a value5\n",
            "Enter a list that is taken from list 2\n",
            "enter a number7\n",
            "enter a number8\n",
            "enter a number9\n",
            "enter a number0\n",
            "enter a number0\n",
            "[1, 2, 3, 4, 5, 7, 8, 9, 0, 0]\n"
          ]
        }
      ]
    },
    {
      "cell_type": "code",
      "source": [
        "def isPalindrome(words):\n",
        "  temp=words[::-1]\n",
        "  if temp.capitalize()==words.capitalize():\n",
        "      return True\n",
        "  else:\n",
        "       return False\n",
        "print(isPalindrome(\"Mom\"))\n",
        "            "
      ],
      "metadata": {
        "colab": {
          "base_uri": "https://localhost:8080/"
        },
        "id": "5BWvcoGYDFCf",
        "outputId": "41ee6b10-a724-4335-d777-7d67453102e5"
      },
      "execution_count": null,
      "outputs": [
        {
          "output_type": "stream",
          "name": "stdout",
          "text": [
            "True\n"
          ]
        }
      ]
    },
    {
      "cell_type": "code",
      "source": [
        "A = [[1, 0, 0],\n",
        "    [0, 1, 0],\n",
        "    [0, 0, 1]]\n",
        " \n",
        "# take a 3x4 matrix   \n",
        "B = [[1, 2, 3, ],\n",
        "    [4, 5, 6 ],\n",
        "    [7, 8, 9 ]]\n",
        "     \n",
        "c = [[0, 0, 0, 0],\n",
        "        [0, 0, 0, 0],\n",
        "        [0, 0, 0, 0]]\n",
        " \n",
        "# iterating by row of A\n",
        "for i in range(len(A)):\n",
        " \n",
        "    # iterating by column by B\n",
        "    for j in range(len(B[0])):\n",
        " \n",
        "        # iterating by rows of B\n",
        "        for k in range(len(B)):\n",
        "            c[i][j] += A[i][k] * B[k][j]\n",
        " \n",
        "for r in c:\n",
        "    print(r)"
      ],
      "metadata": {
        "colab": {
          "base_uri": "https://localhost:8080/"
        },
        "id": "9CiaIt9aMY-v",
        "outputId": "88184d4d-35a3-45f7-bb26-de7739cb19b2"
      },
      "execution_count": null,
      "outputs": [
        {
          "output_type": "stream",
          "name": "stdout",
          "text": [
            "[1, 2, 3, 0]\n",
            "[4, 5, 6, 0]\n",
            "[7, 8, 9, 0]\n"
          ]
        }
      ]
    },
    {
      "cell_type": "code",
      "source": [
        "#Activity 6\n",
        "sample={(\"AQsa,Insha\"):\"03131512785889\",(\"ayesha\",\"Saba\"):\"03145678738787\",(\"Aunsha\",\"Yusra\"):\"677547638636827\"}\n",
        "firstname=input(\"Enter the first name\")\n",
        "lastname=input(\"enter the last name \")\n",
        "searchtuple=(firstname,lastname)\n",
        "if searchtuple in sample:\n",
        "  print(sample[searchtuple])\n",
        "else:\n",
        "    print(\"name not found\")\n"
      ],
      "metadata": {
        "colab": {
          "base_uri": "https://localhost:8080/"
        },
        "id": "vUEfJ9ejOmYb",
        "outputId": "a83dfe63-fab5-4be0-e331-b3541f14b697"
      },
      "execution_count": null,
      "outputs": [
        {
          "output_type": "stream",
          "name": "stdout",
          "text": [
            "Enter the first nameInsha\n",
            "enter the last name Aqsa\n",
            "name not found\n"
          ]
        }
      ]
    },
    {
      "cell_type": "code",
      "source": [
        "#Lab activity 1\n",
        "n=int(input(\"enter a  total number of elements :\"))#3\n",
        "l=[]\n",
        "for i in range(0,n,1):#0,1,2\n",
        "     \n",
        "      element=input(\"enter a number\")\n",
        "      l.append(element)\n",
        "      print(\"list:\",l)\n",
        "\n",
        "n2=int(input(\"enter a  total number of elements :\"))#3\n",
        "l2=[]\n",
        "for i in range(0,n2,1):#0,1,2\n",
        "     \n",
        "      element=input(\"enter a number\")\n",
        "      l2.append(element)\n",
        "      print(\"list2:\",l2)\n",
        "      meg=l+l2\n",
        "      print(\"merged list is\", meg)\n",
        "      meg.sort()\n",
        "      print(\"sorted list is\",meg)"
      ],
      "metadata": {
        "colab": {
          "base_uri": "https://localhost:8080/"
        },
        "id": "B6B_40YdMFGd",
        "outputId": "1ca49fd7-f2ca-452a-f29d-ecef969f1803"
      },
      "execution_count": null,
      "outputs": [
        {
          "output_type": "stream",
          "name": "stdout",
          "text": [
            "enter a  total number of elements :3\n",
            "enter a number1\n",
            "list: ['1']\n",
            "enter a number6\n",
            "list: ['1', '6']\n",
            "enter a number2\n",
            "list: ['1', '6', '2']\n",
            "enter a  total number of elements :2\n",
            "enter a number4\n",
            "list2: ['4']\n",
            "merged list is ['1', '6', '2', '4']\n",
            "sorted list is ['1', '2', '4', '6']\n",
            "enter a number\n",
            "list2: ['4', '']\n",
            "merged list is ['1', '6', '2', '4', '']\n",
            "sorted list is ['', '1', '2', '4', '6']\n"
          ]
        }
      ]
    },
    {
      "cell_type": "code",
      "source": [
        "#task 2\n",
        "n=int(input(\"enter a  total number of elements :\"))#3\n",
        "l=[]\n",
        "for i in range(0,n,1):#0,1,2\n",
        "     \n",
        "      element=input(\"enter a number\")\n",
        "      l.append(element)\n",
        "      print(\"list:\",l)\n",
        "\n",
        "n2=int(input(\"enter a  total number of elements :\"))#3\n",
        "l2=[]\n",
        "for i in range(0,n2,1):#0,1,2\n",
        "     \n",
        "      element=input(\"enter a number\")\n",
        "      l2.append(element)\n",
        "      print(\"list2:\",l2)\n",
        "      meg=l+l2\n",
        "      print(\"merged list is\", meg)\n",
        "      meg.sort()\n",
        "      print(\"sorted list is\",meg)\n",
        "          \n",
        "smalest=min(meg)\n",
        "largest=max(meg)\n",
        "print(\"Smallest value is\",smalest)\n",
        "print(\"largest value is\",largest)"
      ],
      "metadata": {
        "colab": {
          "base_uri": "https://localhost:8080/"
        },
        "id": "98kPaNNlN1fc",
        "outputId": "f8023bf3-06ee-48ef-8cf8-ba4eaf7477cd"
      },
      "execution_count": null,
      "outputs": [
        {
          "output_type": "stream",
          "name": "stdout",
          "text": [
            "enter a  total number of elements :3\n",
            "enter a number1\n",
            "list: ['1']\n",
            "enter a number5\n",
            "list: ['1', '5']\n",
            "enter a number4\n",
            "list: ['1', '5', '4']\n",
            "enter a  total number of elements :2\n",
            "enter a number6\n",
            "list2: ['6']\n",
            "merged list is ['1', '5', '4', '6']\n",
            "sorted list is ['1', '4', '5', '6']\n",
            "enter a number8\n",
            "list2: ['6', '8']\n",
            "merged list is ['1', '5', '4', '6', '8']\n",
            "sorted list is ['1', '4', '5', '6', '8']\n",
            "Smallest value is 1\n",
            "largest value is 8\n"
          ]
        }
      ]
    },
    {
      "cell_type": "code",
      "source": [
        "def perimeter(listing):\n",
        "    leng=len(listing)\n",
        "    perimeter=0;  \n",
        "    for i in range(0,leng-1):\n",
        "        dlist=(((listing[i][0]-listing[i+1][0]**2)+listing[i][1]-listing[i+1][0]**2))**0.5\n",
        "        perimeter=perimeter+dlist\n",
        "    perimeter=perimeter+(((listing[0][0]-listing[leng-1][0]**2)+listing[0][1]-listing[leng-1][1]**2))**0.5\n",
        "  \n",
        "    return perimeter\n",
        "L=[(1,3),(2,7),(3,9),(-1,0)]\n",
        "print(perimeter(L))"
      ],
      "metadata": {
        "colab": {
          "base_uri": "https://localhost:8080/"
        },
        "id": "2F4HtwLBNs8R",
        "outputId": "4b4f5422-8d3b-49f0-f221-9adeb742c3cc"
      },
      "execution_count": null,
      "outputs": [
        {
          "output_type": "stream",
          "name": "stdout",
          "text": [
            "(4.894328467737257+5j)\n"
          ]
        }
      ]
    },
    {
      "cell_type": "code",
      "source": [
        "def symmDiff(a,b):\n",
        "  e=set()\n",
        "  for i in a:\n",
        "       if i not in b:\n",
        "            e.add(i)\n",
        "            for i in b:\n",
        "              if i not in a:\n",
        "                e.add(i)\n",
        "set1={1,2,4,5}\n",
        "set2={4,5,7,8,9}\n",
        "print(symmDiff(set1,set2))\n",
        "print(set1.symmetric_difference(set2))\n",
        "print(set2.symmetric_difference(set1))\n",
        "print(set1^set2)\n",
        "print(set2^set1)\n",
        "\n"
      ],
      "metadata": {
        "id": "Gt4yW4UdU4OE",
        "colab": {
          "base_uri": "https://localhost:8080/"
        },
        "outputId": "f3cb7de3-6f31-45ec-ff9c-6cb4b333d274"
      },
      "execution_count": 14,
      "outputs": [
        {
          "output_type": "stream",
          "name": "stdout",
          "text": [
            "None\n",
            "{1, 2, 7, 8, 9}\n",
            "{1, 2, 7, 8, 9}\n",
            "{1, 2, 7, 8, 9}\n",
            "{1, 2, 7, 8, 9}\n"
          ]
        }
      ]
    },
    {
      "cell_type": "code",
      "source": [
        "sample_dict = {\n",
        "    'emp1': {'name': 'aqsa', 'salary': 7500},\n",
        "    'emp2': {'name': 'ayesha', 'salary': 8000},\n",
        "    'emp3': {'name': 'insha', 'salary': 500}\n",
        "}\n",
        "sample_dict['emp3']['salary'] = 8000\n",
        "print(sample_dict['emp3'])"
      ],
      "metadata": {
        "colab": {
          "base_uri": "https://localhost:8080/"
        },
        "id": "OYQ5cjgbZOwZ",
        "outputId": "54658c91-7ec6-4281-b2b2-aff2d61d64e4"
      },
      "execution_count": 15,
      "outputs": [
        {
          "output_type": "stream",
          "name": "stdout",
          "text": [
            "{'name': 'insha', 'salary': 8000}\n"
          ]
        }
      ]
    },
    {
      "cell_type": "code",
      "source": [
        "if __name__ == '__main__':\n",
        "\n",
        "    birthdays = {\n",
        "        'aqsa': '01/06/2003',\n",
        "        'Haris': '15/oct/2000',\n",
        "        'waduha': '15/10/2007'\n",
        "    }\n",
        "\n",
        "    print('Welcome to the birthday dictionary. We know the birthdays of:')\n",
        "    for name in birthdays:\n",
        "        print(name)\n",
        "\n",
        "    print('Who\\'s birthday do you want to look up?')\n",
        "    name = input()\n",
        "    if name in birthdays:\n",
        "        print('{}\\'s birthday is {}.'.format(name, birthdays[name]))\n",
        "    else:\n",
        "        print('Sadly, we don\\'t have {}\\'s birthday.'.format(name))"
      ],
      "metadata": {
        "colab": {
          "base_uri": "https://localhost:8080/"
        },
        "id": "a0TekyOyku42",
        "outputId": "72754c4e-092a-4c6c-dcf1-a32d6e9e253c"
      },
      "execution_count": 17,
      "outputs": [
        {
          "output_type": "stream",
          "name": "stdout",
          "text": [
            "Welcome to the birthday dictionary. We know the birthdays of:\n",
            "aqsa\n",
            "Haris\n",
            "waduha\n",
            "Who's birthday do you want to look up?\n",
            "aqsa\n",
            "aqsa's birthday is 01/06/2003.\n"
          ]
        }
      ]
    }
  ]
}