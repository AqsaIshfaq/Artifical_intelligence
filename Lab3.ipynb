{
  "nbformat": 4,
  "nbformat_minor": 0,
  "metadata": {
    "colab": {
      "provenance": [],
      "collapsed_sections": [],
      "authorship_tag": "ABX9TyO/njmtRNsBIjJwMMfVH6w6",
      "include_colab_link": true
    },
    "kernelspec": {
      "name": "python3",
      "display_name": "Python 3"
    },
    "language_info": {
      "name": "python"
    }
  },
  "cells": [
    {
      "cell_type": "markdown",
      "metadata": {
        "id": "view-in-github",
        "colab_type": "text"
      },
      "source": [
        "<a href=\"https://colab.research.google.com/github/AqsaIshfaq/Artifical_intelligence/blob/main/Lab3.ipynb\" target=\"_parent\"><img src=\"https://colab.research.google.com/assets/colab-badge.svg\" alt=\"Open In Colab\"/></a>"
      ]
    },
    {
      "cell_type": "code",
      "source": [
        "a = [\n",
        "    [1, 1, 1, 1, 1, 1, 1, 1, 1, 1],\n",
        "    [1, 0, 1, 0, 1, 0, 0, 0, 0, 1],\n",
        "    [1, 0, 1, 0, 1, 0, 0, 0, 0, 1],\n",
        "    [1, 0, 1, 0, 1, 1, 1, 1, 0, 1],\n",
        "    [1, 0, 1, 0, 0, 0, 0, 1, 0, 1],\n",
        "    [1, 0, 1, 0, 0, 0, 0, 1, 0, 1],\n",
        "    [1, 0, 0, 0, 0, 0, 0, 1, 0, 1],\n",
        "    [1, 0, 1, 0, 0, 0, 0, 0, 0, 1],\n",
        "    [1, 0, 1, 0, 0, 0, 0, 0, 0, 1],\n",
        "    [1, 1, 1, 1, 1, 1, 1, 1, 1, 1],\n",
        "]\n",
        "start = 1, 1\n",
        "end = 2, 5\n"
      ],
      "metadata": {
        "id": "YHVEs711FaCa"
      },
      "execution_count": 3,
      "outputs": []
    },
    {
      "cell_type": "code",
      "source": [
        "#2\n",
        "\n",
        "\n",
        "def find_path(start_node):\n",
        "    start_node.set_color(\"gray\")\n",
        "    start_node.prev = None\n",
        "\n",
        "    q = [] # Our queue of nodes visited\n",
        "    q.append(start_node) # Add starting node to the end of the queue\n",
        "    while len(q) != 0: # Runs when there are still nodes in the queue\n",
        "        start_node = q.pop(0) # Remove the node in the front of the queue\n",
        "        for node in start_node.adj:   # Look at every item in the current node's adjacency list\n",
        "            if node.get_color() == \"white\":  # If the color is white, we haven't visited this node before\n",
        "                node.set_color(\"grey\")\n",
        "                node.depth = start_node.depth + 1\n",
        "                node.prev = start_node\n",
        "                q.append(node)  # Add this new node to the queue\n",
        "            elif node.get_color() == \"blue\":  # If the color is blue, we have reached our goal\n",
        "                node.prev = start_node\n",
        "                visited = [node]\n",
        "                cur = node.prev\n",
        "                while cur != None: # Backtrack our path, adding nodes to the visited list as we go\n",
        "                    visited.insert(0, cur)\n",
        "                    cur = cur.prev\n",
        "                return visited\n",
        "        start_node.set_color(\"black\")"
      ],
      "metadata": {
        "id": "-fxVWEyGHnrO"
      },
      "execution_count": 13,
      "outputs": []
    },
    {
      "cell_type": "code",
      "source": [
        "from queue import Queue\n",
        "list_breadth={\n",
        "    \"A\":[\"C\",\"D\"],\n",
        "    \"B\":[\"E\",\"F\"],\n",
        "    \"C\":[\"B\"],\n",
        "    \"D\":[\"E\",\"D\",\"B\"],\n",
        "    \"E\":[\"A\",\"C\",\"F\"],\n",
        "    \"F\":[\"H\",\"B\",\"D\"],\n",
        "    \"G\":[\"E\",\"F\"],\n",
        "    \"H\":[\"A\",\"G\"]\n",
        "}\n",
        "#initalizataion\n",
        "visted={}\n",
        "level={}   #dic to store values\n",
        "parent={}   # to start with first node\n",
        "breadth_ouutput=[] # to store outputs of the breadth_first search\n",
        "queue=Queue()\n",
        "for node in list_breadth.keys():\n",
        "    visted[node]=False\n",
        "    parent[node]=None\n",
        "    level[node]=-1\n",
        "    print(visted)\n",
        "    print(parent)\n",
        "    print(level)\n",
        "s=\"B\"\n",
        "visted[s]=True\n",
        "level=0\n",
        "queue.put(s)\n",
        "while not queue.empty():\n",
        "    u=queue.get()\n",
        "    breadth_ouutput.append(u)\n",
        "\n",
        "    for v in list_breadth[u]:\n",
        "        if not visted [v]:\n",
        "           visted[v] = True\n",
        "           parent[v] = u\n",
        "       # level[v] = level[u]+1\n",
        "        queue.put(v) \n",
        "print(breadth_ouutput)\n",
        "#Shotest distance from all node\n",
        "print(level)\n",
        "#path from node\n",
        "v=\"B\"\n",
        "path=[]\n",
        "while v is not None:\n",
        "    path.append[v]\n",
        "    v=parent[v]\n",
        "path.reverse()\n",
        "print(path)"
      ],
      "metadata": {
        "colab": {
          "base_uri": "https://localhost:8080/"
        },
        "id": "HY2939M0LAHx",
        "outputId": "7dbaffb8-6082-48db-8dc1-d7e5ed104a74"
      },
      "execution_count": null,
      "outputs": [
        {
          "output_type": "stream",
          "name": "stdout",
          "text": [
            "{'A': False}\n",
            "{'A': None}\n",
            "{'A': -1}\n",
            "{'A': False, 'B': False}\n",
            "{'A': None, 'B': None}\n",
            "{'A': -1, 'B': -1}\n",
            "{'A': False, 'B': False, 'C': False}\n",
            "{'A': None, 'B': None, 'C': None}\n",
            "{'A': -1, 'B': -1, 'C': -1}\n",
            "{'A': False, 'B': False, 'C': False, 'D': False}\n",
            "{'A': None, 'B': None, 'C': None, 'D': None}\n",
            "{'A': -1, 'B': -1, 'C': -1, 'D': -1}\n",
            "{'A': False, 'B': False, 'C': False, 'D': False, 'E': False}\n",
            "{'A': None, 'B': None, 'C': None, 'D': None, 'E': None}\n",
            "{'A': -1, 'B': -1, 'C': -1, 'D': -1, 'E': -1}\n",
            "{'A': False, 'B': False, 'C': False, 'D': False, 'E': False, 'F': False}\n",
            "{'A': None, 'B': None, 'C': None, 'D': None, 'E': None, 'F': None}\n",
            "{'A': -1, 'B': -1, 'C': -1, 'D': -1, 'E': -1, 'F': -1}\n",
            "{'A': False, 'B': False, 'C': False, 'D': False, 'E': False, 'F': False, 'G': False}\n",
            "{'A': None, 'B': None, 'C': None, 'D': None, 'E': None, 'F': None, 'G': None}\n",
            "{'A': -1, 'B': -1, 'C': -1, 'D': -1, 'E': -1, 'F': -1, 'G': -1}\n",
            "{'A': False, 'B': False, 'C': False, 'D': False, 'E': False, 'F': False, 'G': False, 'H': False}\n",
            "{'A': None, 'B': None, 'C': None, 'D': None, 'E': None, 'F': None, 'G': None, 'H': None}\n",
            "{'A': -1, 'B': -1, 'C': -1, 'D': -1, 'E': -1, 'F': -1, 'G': -1, 'H': -1}\n"
          ]
        }
      ]
    },
    {
      "cell_type": "code",
      "source": [
        "class Node:\n",
        "    def _init_(self, state, parent, actions, totalCost):\n",
        "        self.state = state  # Corrunt Node\n",
        "        self.parent = parent  # Parent of that Node\n",
        "        self.actions = actions # Neighbours of that Node\n",
        "        self.totalCost = totalCost # Distance to the source Node\n",
        "    \n",
        "\n",
        "def bfs():\n",
        "    initialState = 'F'\n",
        "    goalState = 'A'\n",
        "    \n",
        "    graph = {'A' : Node('A', None , ['B', 'C', 'E'], None),\n",
        "         'B' : Node('B', None , ['A', 'D', 'E'], None),\n",
        "         'C' : Node('C', None , ['A', 'F', 'G'], None),\n",
        "         'D' : Node('D', None , ['B', 'E'], None),\n",
        "         'E' : Node('E', None , ['A', 'B', 'D'], None),\n",
        "         'F' : Node('F', None , ['C'], None),\n",
        "         'G' : Node('G', None , ['C'], None)}\n",
        "    \n",
        "    queue = [initialState]\n",
        "    visited = []\n",
        "    \n",
        "    while len(queue) != 0:\n",
        "        currentNode = queue.pop(0)\n",
        "        visited.append(currentNode)\n",
        "        for child in graph[currentNode].actions:\n",
        "            if child not in queue and child not in visited:\n",
        "                graph[child].parent = currentNode\n",
        "                if graph[child].state == goalState:\n",
        "                    return actionSequence(graph , initialState, goalState)\n",
        "                queue.append(child)\n",
        "                \n",
        "def actionSequence(graph , initialState, goalState):\n",
        "    solution = [goalState]\n",
        "    currentParent = graph[goalState].parent\n",
        "    while currentParent != None:\n",
        "        solution.append(currentParent)\n",
        "        currentParent = graph[currentParent].parent\n",
        "    solution.reverse()\n",
        "    return solution\n",
        "sol = bfs()\n",
        "print(sol)"
      ],
      "metadata": {
        "id": "kkFLr9GAL8nQ"
      },
      "execution_count": null,
      "outputs": []
    },
    {
      "cell_type": "code",
      "source": [],
      "metadata": {
        "id": "JGgN-r2s-vRB"
      },
      "execution_count": null,
      "outputs": []
    }
  ]
}