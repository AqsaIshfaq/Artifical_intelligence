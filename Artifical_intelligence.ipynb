{
  "nbformat": 4,
  "nbformat_minor": 0,
  "metadata": {
    "colab": {
      "provenance": [],
      "toc_visible": true,
      "authorship_tag": "ABX9TyNjg/SbAUaThq7a8c2nggQC",
      "include_colab_link": true
    },
    "kernelspec": {
      "name": "python3",
      "display_name": "Python 3"
    },
    "language_info": {
      "name": "python"
    }
  },
  "cells": [
    {
      "cell_type": "markdown",
      "metadata": {
        "id": "view-in-github",
        "colab_type": "text"
      },
      "source": [
        "<a href=\"https://colab.research.google.com/github/AqsaIshfaq/Artifical_intelligence/blob/main/Artifical_intelligence.ipynb\" target=\"_parent\"><img src=\"https://colab.research.google.com/assets/colab-badge.svg\" alt=\"Open In Colab\"/></a>"
      ]
    },
    {
      "cell_type": "code",
      "execution_count": null,
      "metadata": {
        "colab": {
          "base_uri": "https://localhost:8080/"
        },
        "id": "5bxQ07ACn63T",
        "outputId": "4c9a4034-8e3c-40f5-93dc-023d00f220b9"
      },
      "outputs": [
        {
          "output_type": "stream",
          "name": "stdout",
          "text": [
            "enter a number456809\n",
            "reverse is  9\n",
            "reverse is  90\n",
            "reverse is  908\n",
            "reverse is  9086\n",
            "reverse is  90865\n",
            "reverse is  908654\n"
          ]
        }
      ],
      "source": [
        "#lab task 1\n",
        "n=int(input(\"enter a number\"))\n",
        "reverse=0\n",
        "while(n>0):\n",
        "  remainder=n%10\n",
        "  reverse =reverse*10+remainder\n",
        "  n=n//10\n",
        "  print(\"reverse is \",reverse)"
      ]
    },
    {
      "cell_type": "code",
      "source": [
        "#lab task 2\n",
        "n=int(input(\"enter a number\"))\n",
        "even=0\n",
        "odd=0\n",
        "x=1\n",
        "while x<=n:\n",
        "  if x%2==0:\n",
        "     even=even+n\n",
        "  else:\n",
        "         odd=odd+n\n",
        "  x=x+1\n",
        "  print(\"sum of even number :\",even)\n",
        "  print(\"sum of odd number :\",odd)\n"
      ],
      "metadata": {
        "colab": {
          "base_uri": "https://localhost:8080/"
        },
        "id": "Oo4tBGB-pMyL",
        "outputId": "fef744c8-f1e9-4ddf-9e08-2238ce53ffed"
      },
      "execution_count": null,
      "outputs": [
        {
          "output_type": "stream",
          "name": "stdout",
          "text": [
            "enter a number56\n",
            "sum of even number : 0\n",
            "sum of odd number : 56\n",
            "sum of even number : 56\n",
            "sum of odd number : 56\n",
            "sum of even number : 56\n",
            "sum of odd number : 112\n",
            "sum of even number : 112\n",
            "sum of odd number : 112\n",
            "sum of even number : 112\n",
            "sum of odd number : 168\n",
            "sum of even number : 168\n",
            "sum of odd number : 168\n",
            "sum of even number : 168\n",
            "sum of odd number : 224\n",
            "sum of even number : 224\n",
            "sum of odd number : 224\n",
            "sum of even number : 224\n",
            "sum of odd number : 280\n",
            "sum of even number : 280\n",
            "sum of odd number : 280\n",
            "sum of even number : 280\n",
            "sum of odd number : 336\n",
            "sum of even number : 336\n",
            "sum of odd number : 336\n",
            "sum of even number : 336\n",
            "sum of odd number : 392\n",
            "sum of even number : 392\n",
            "sum of odd number : 392\n",
            "sum of even number : 392\n",
            "sum of odd number : 448\n",
            "sum of even number : 448\n",
            "sum of odd number : 448\n",
            "sum of even number : 448\n",
            "sum of odd number : 504\n",
            "sum of even number : 504\n",
            "sum of odd number : 504\n",
            "sum of even number : 504\n",
            "sum of odd number : 560\n",
            "sum of even number : 560\n",
            "sum of odd number : 560\n",
            "sum of even number : 560\n",
            "sum of odd number : 616\n",
            "sum of even number : 616\n",
            "sum of odd number : 616\n",
            "sum of even number : 616\n",
            "sum of odd number : 672\n",
            "sum of even number : 672\n",
            "sum of odd number : 672\n",
            "sum of even number : 672\n",
            "sum of odd number : 728\n",
            "sum of even number : 728\n",
            "sum of odd number : 728\n",
            "sum of even number : 728\n",
            "sum of odd number : 784\n",
            "sum of even number : 784\n",
            "sum of odd number : 784\n",
            "sum of even number : 784\n",
            "sum of odd number : 840\n",
            "sum of even number : 840\n",
            "sum of odd number : 840\n",
            "sum of even number : 840\n",
            "sum of odd number : 896\n",
            "sum of even number : 896\n",
            "sum of odd number : 896\n",
            "sum of even number : 896\n",
            "sum of odd number : 952\n",
            "sum of even number : 952\n",
            "sum of odd number : 952\n",
            "sum of even number : 952\n",
            "sum of odd number : 1008\n",
            "sum of even number : 1008\n",
            "sum of odd number : 1008\n",
            "sum of even number : 1008\n",
            "sum of odd number : 1064\n",
            "sum of even number : 1064\n",
            "sum of odd number : 1064\n",
            "sum of even number : 1064\n",
            "sum of odd number : 1120\n",
            "sum of even number : 1120\n",
            "sum of odd number : 1120\n",
            "sum of even number : 1120\n",
            "sum of odd number : 1176\n",
            "sum of even number : 1176\n",
            "sum of odd number : 1176\n",
            "sum of even number : 1176\n",
            "sum of odd number : 1232\n",
            "sum of even number : 1232\n",
            "sum of odd number : 1232\n",
            "sum of even number : 1232\n",
            "sum of odd number : 1288\n",
            "sum of even number : 1288\n",
            "sum of odd number : 1288\n",
            "sum of even number : 1288\n",
            "sum of odd number : 1344\n",
            "sum of even number : 1344\n",
            "sum of odd number : 1344\n",
            "sum of even number : 1344\n",
            "sum of odd number : 1400\n",
            "sum of even number : 1400\n",
            "sum of odd number : 1400\n",
            "sum of even number : 1400\n",
            "sum of odd number : 1456\n",
            "sum of even number : 1456\n",
            "sum of odd number : 1456\n",
            "sum of even number : 1456\n",
            "sum of odd number : 1512\n",
            "sum of even number : 1512\n",
            "sum of odd number : 1512\n",
            "sum of even number : 1512\n",
            "sum of odd number : 1568\n",
            "sum of even number : 1568\n",
            "sum of odd number : 1568\n"
          ]
        }
      ]
    },
    {
      "cell_type": "code",
      "source": [
        "#lab task 3\n",
        "num=int(input(\"enter a number \"))\n",
        "n1,n2=0,1\n",
        "temp=0\n",
        "if num<=0:\n",
        "  print(\"Enter the number you want\")\n",
        "elif num==1:\n",
        "  print(\"Sequence is \",num)\n",
        "  print(n1)\n",
        "else:\n",
        "  print(\"Series of fibonic is\")\n",
        "  while temp<num:\n",
        "    print(n1)\n",
        "    nth=n1+n2\n",
        "    n1=n2\n",
        "    n2=nth\n",
        "    temp+=1\n",
        "\n"
      ],
      "metadata": {
        "colab": {
          "base_uri": "https://localhost:8080/"
        },
        "id": "4YCReuOitELV",
        "outputId": "14a0806b-98d5-4c00-c72b-2a0b3005e2e6"
      },
      "execution_count": null,
      "outputs": [
        {
          "output_type": "stream",
          "name": "stdout",
          "text": [
            "enter a number 12\n",
            "Series of fibonic is\n",
            "0\n",
            "1\n",
            "1\n",
            "2\n",
            "3\n",
            "5\n",
            "8\n",
            "13\n",
            "21\n",
            "34\n",
            "55\n",
            "89\n"
          ]
        }
      ]
    },
    {
      "cell_type": "code",
      "source": [
        "#lab task 5\n",
        "a=int(input(\"enter marks of students\"))\n",
        "avg=a/100\n",
        "if(avg<50):\n",
        "  print(\"your grade is F\")\n",
        "elif (avg>=50 and avg<=60):\n",
        "  print(\"your grade is E\")\n",
        "elif(avg>=61 and avg<=70):\n",
        "  print(\"Your grade is D\")\n",
        "elif(avg>=71 and avg<=80):\n",
        "  print (\"your grade is C\")\n",
        "elif(avg>=81 and avg<=90):\n",
        "  print(\"your grade is B\")\n",
        "else:\n",
        "  print(\"your grade is A\")\n",
        "\n",
        "\n"
      ],
      "metadata": {
        "colab": {
          "base_uri": "https://localhost:8080/"
        },
        "id": "d6MHsNs2vD49",
        "outputId": "6a876458-c33c-4a55-8fe4-e5f082500865"
      },
      "execution_count": null,
      "outputs": [
        {
          "output_type": "stream",
          "name": "stdout",
          "text": [
            "enter marks of students45\n",
            "your grade is F\n"
          ]
        }
      ]
    },
    {
      "cell_type": "code",
      "source": [
        "#lab task 6\n",
        "num=int(input(\"enter the number\"))\n",
        "factorial=1\n",
        "i=1\n",
        "while i<=num:\n",
        "  factorial=factorial*i\n",
        "  i=i+1\n",
        "  print(\"fact of\",num,\"is\",factorial)\n"
      ],
      "metadata": {
        "colab": {
          "base_uri": "https://localhost:8080/"
        },
        "id": "vGfKZFmOxmlA",
        "outputId": "31c7762e-8ccd-48aa-cf99-033770c39091"
      },
      "execution_count": null,
      "outputs": [
        {
          "output_type": "stream",
          "name": "stdout",
          "text": [
            "enter the number6\n",
            "fact of 6 is 1\n",
            "fact of 6 is 2\n",
            "fact of 6 is 6\n",
            "fact of 6 is 24\n",
            "fact of 6 is 120\n",
            "fact of 6 is 720\n"
          ]
        }
      ]
    },
    {
      "cell_type": "code",
      "source": [
        "#activities 1\n",
        "x=int(input(\"Enter a number\"))\n",
        "if int(x)%2==0:\n",
        "  print(\"Number is even\")\n",
        "else:\n",
        "  print(\"number is odd\") "
      ],
      "metadata": {
        "colab": {
          "base_uri": "https://localhost:8080/"
        },
        "id": "P_QEjwa6Uamo",
        "outputId": "9807b372-2619-45b5-cdaf-86077d12a393"
      },
      "execution_count": 3,
      "outputs": [
        {
          "output_type": "stream",
          "name": "stdout",
          "text": [
            "Enter a number3\n",
            "number is odd\n"
          ]
        }
      ]
    },
    {
      "cell_type": "code",
      "source": [
        " #activity 2\n",
        "sum=0\n",
        "num=int(input(\"enter a number\"))\n",
        "while(num!=0):\n",
        "  sum=sum+num\n",
        "  num=int(input(\"enter a number\"))\n",
        "print(sum)\n",
        "  "
      ],
      "metadata": {
        "colab": {
          "base_uri": "https://localhost:8080/"
        },
        "id": "tqGP0SFcVdsh",
        "outputId": "7657cf86-0f4c-40b2-e99f-4942145b5862"
      },
      "execution_count": 3,
      "outputs": [
        {
          "output_type": "stream",
          "name": "stdout",
          "text": [
            "enter a number6\n",
            "enter a number7\n",
            "enter a number3\n",
            "enter a number89\n",
            "enter a number0\n",
            "105\n"
          ]
        }
      ]
    },
    {
      "cell_type": "code",
      "source": [
        "#activity 3\n",
        "sum=0\n",
        "i=0\n",
        "while i<=4:\n",
        "  s=input(\"enter a number\")\n",
        "  n=int(s)\n",
        "  sum=sum+n\n",
        "  i=i+1\n",
        "  print(\"The result is\",sum)"
      ],
      "metadata": {
        "colab": {
          "base_uri": "https://localhost:8080/"
        },
        "id": "xuRDuSeamdPG",
        "outputId": "9176cf88-4177-4f82-d1a7-fb904b0232cb"
      },
      "execution_count": 4,
      "outputs": [
        {
          "output_type": "stream",
          "name": "stdout",
          "text": [
            "enter a number5\n",
            "The result is 5\n",
            "enter a number6\n",
            "The result is 11\n",
            "enter a number3\n",
            "The result is 14\n",
            "enter a number8\n",
            "The result is 22\n",
            "enter a number8\n",
            "The result is 30\n"
          ]
        }
      ]
    },
    {
      "cell_type": "code",
      "source": [
        "#activity 4\n",
        "summation=0\n",
        "i=1\n",
        "while i<=10:\n",
        "  summation=summation+i\n",
        "  i=i+1\n",
        "  print(\"the result\",summation)"
      ],
      "metadata": {
        "colab": {
          "base_uri": "https://localhost:8080/"
        },
        "id": "Od1p5975m0cn",
        "outputId": "61782c62-09e5-4220-8e9a-c0f9e1d64647"
      },
      "execution_count": 5,
      "outputs": [
        {
          "output_type": "stream",
          "name": "stdout",
          "text": [
            "the result 1\n",
            "the result 3\n",
            "the result 6\n",
            "the result 10\n",
            "the result 15\n",
            "the result 21\n",
            "the result 28\n",
            "the result 36\n",
            "the result 45\n",
            "the result 55\n"
          ]
        }
      ]
    },
    {
      "cell_type": "code",
      "source": [
        "#activity 5\n",
        "name=input(\"What is your good name______________\")\n",
        "print(\"MY name is____________\",name)\n",
        "job=input(\"What is your job____________\")\n",
        "print(\"my job is ___________\",job)"
      ],
      "metadata": {
        "colab": {
          "base_uri": "https://localhost:8080/"
        },
        "id": "79vN6WUYnI8V",
        "outputId": "609b3d5c-e22d-4d98-bb0c-99232c6d5051"
      },
      "execution_count": 6,
      "outputs": [
        {
          "output_type": "stream",
          "name": "stdout",
          "text": [
            "What is your good name______________aqsa\n",
            "MY name is____________ aqsa\n",
            "What is your job____________student\n",
            "my job is ___________ student\n"
          ]
        }
      ]
    },
    {
      "cell_type": "code",
      "source": [
        "#activity 6\n",
        "\n",
        "isprime=True\n",
        "i=2\n",
        "number=int(input(\"enter a new number\"))\n",
        "while(i<number):\n",
        "  remainder=number%i\n",
        "  if(remainder==0):\n",
        "    isprime=False\n",
        "  else:\n",
        "      i=i+1\n",
        "  if(isprime):\n",
        "     print(\"number is prime\")\n",
        "  else:\n",
        "     print(\"Number is not prime\")\n"
      ],
      "metadata": {
        "colab": {
          "base_uri": "https://localhost:8080/"
        },
        "id": "mGmtI-mhnQuX",
        "outputId": "fad1706e-9211-4f3f-be96-dcb5393ac6b1"
      },
      "execution_count": 13,
      "outputs": [
        {
          "output_type": "stream",
          "name": "stdout",
          "text": [
            "enter a new number3\n",
            "number is prime\n"
          ]
        }
      ]
    }
  ]
}