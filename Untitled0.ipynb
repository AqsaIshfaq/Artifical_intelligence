{
  "nbformat": 4,
  "nbformat_minor": 0,
  "metadata": {
    "colab": {
      "provenance": [],
      "collapsed_sections": [],
      "toc_visible": true,
      "authorship_tag": "ABX9TyOisNJIfHwKDbqZj6IRL1iJ",
      "include_colab_link": true
    },
    "kernelspec": {
      "name": "python3",
      "display_name": "Python 3"
    },
    "language_info": {
      "name": "python"
    }
  },
  "cells": [
    {
      "cell_type": "markdown",
      "metadata": {
        "id": "view-in-github",
        "colab_type": "text"
      },
      "source": [
        "<a href=\"https://colab.research.google.com/github/AqsaIshfaq/Artifical_intelligence/blob/main/Untitled0.ipynb\" target=\"_parent\"><img src=\"https://colab.research.google.com/assets/colab-badge.svg\" alt=\"Open In Colab\"/></a>"
      ]
    },
    {
      "cell_type": "code",
      "execution_count": null,
      "metadata": {
        "colab": {
          "base_uri": "https://localhost:8080/"
        },
        "id": "Lqry4lv-5rfH",
        "outputId": "662f1d01-d235-453e-918e-306ccd4785ed"
      },
      "outputs": [
        {
          "output_type": "stream",
          "name": "stdout",
          "text": [
            "{'A': False}\n",
            "{'A': None}\n",
            "{'A': -1}\n",
            "{'A': False, 'B': False}\n",
            "{'A': None, 'B': None}\n",
            "{'A': -1, 'B': -1}\n",
            "{'A': False, 'B': False, 'C': False}\n",
            "{'A': None, 'B': None, 'C': None}\n",
            "{'A': -1, 'B': -1, 'C': -1}\n",
            "{'A': False, 'B': False, 'C': False, 'D': False}\n",
            "{'A': None, 'B': None, 'C': None, 'D': None}\n",
            "{'A': -1, 'B': -1, 'C': -1, 'D': -1}\n",
            "{'A': False, 'B': False, 'C': False, 'D': False, 'E': False}\n",
            "{'A': None, 'B': None, 'C': None, 'D': None, 'E': None}\n",
            "{'A': -1, 'B': -1, 'C': -1, 'D': -1, 'E': -1}\n",
            "{'A': False, 'B': False, 'C': False, 'D': False, 'E': False, 'F': False}\n",
            "{'A': None, 'B': None, 'C': None, 'D': None, 'E': None, 'F': None}\n",
            "{'A': -1, 'B': -1, 'C': -1, 'D': -1, 'E': -1, 'F': -1}\n",
            "{'A': False, 'B': False, 'C': False, 'D': False, 'E': False, 'F': False, 'G': False}\n",
            "{'A': None, 'B': None, 'C': None, 'D': None, 'E': None, 'F': None, 'G': None}\n",
            "{'A': -1, 'B': -1, 'C': -1, 'D': -1, 'E': -1, 'F': -1, 'G': -1}\n",
            "{'A': False, 'B': False, 'C': False, 'D': False, 'E': False, 'F': False, 'G': False, 'H': False}\n",
            "{'A': None, 'B': None, 'C': None, 'D': None, 'E': None, 'F': None, 'G': None, 'H': None}\n",
            "{'A': -1, 'B': -1, 'C': -1, 'D': -1, 'E': -1, 'F': -1, 'G': -1, 'H': -1}\n"
          ]
        }
      ],
      "source": [
        "from queue import Queue\n",
        "list_breadth={\n",
        "    \"A\":[\"C\",\"D\"],\n",
        "    \"B\":[\"E\",\"F\"],\n",
        "    \"C\":[\"B\"],\n",
        "    \"D\":[\"E\",\"D\",\"B\"],\n",
        "    \"E\":[\"A\",\"C\",\"F\"],\n",
        "    \"F\":[\"H\",\"B\",\"D\"],\n",
        "    \"G\":[\"E\",\"F\"],\n",
        "    \"H\":[\"A\",\"G\"]\n",
        "}\n",
        "#initalizataion\n",
        "visted={}\n",
        "level={}   #dic to store values\n",
        "parent={}   # to start with first node\n",
        "breadth_ouutput=[] # to store outputs of the breadth_first search\n",
        "queue=Queue()\n",
        "for node in list_breadth.keys():\n",
        "    visted[node]=False\n",
        "    parent[node]=None\n",
        "    level[node]=-1\n",
        "    print(visted)\n",
        "    print(parent)\n",
        "    print(level)\n",
        "s=\"B\"\n",
        "visted[s]=True\n",
        "level=0\n",
        "queue.put(s)\n",
        "while not queue.empty():\n",
        "    u=queue.get()\n",
        "    breadth_ouutput.append(u)\n",
        "\n",
        "    for v in list_breadth[u]:\n",
        "        if not visted [v]:\n",
        "           visted[v] = True\n",
        "           parent[v] = u\n",
        "       # level[v] = level[u]+1\n",
        "        queue.put(v) \n",
        "print(breadth_ouutput)\n",
        "#Shotest distance from all node\n",
        "print(level)\n",
        "#path from node\n",
        "v=\"B\"\n",
        "path=[]\n",
        "while v is not None:\n",
        "    path.append[v]\n",
        "    v=parent[v]\n",
        "path.reverse()\n",
        "print(path)\n"
      ]
    }
  ]
}